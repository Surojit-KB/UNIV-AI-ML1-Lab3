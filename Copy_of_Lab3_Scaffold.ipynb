{
  "nbformat": 4,
  "nbformat_minor": 0,
  "metadata": {
    "colab": {
      "name": "Copy of Lab3 Scaffold.ipynb",
      "provenance": [],
      "include_colab_link": true
    },
    "language_info": {
      "name": "python"
    },
    "kernelspec": {
      "name": "python3",
      "display_name": "Python 3"
    }
  },
  "cells": [
    {
      "cell_type": "markdown",
      "metadata": {
        "id": "view-in-github",
        "colab_type": "text"
      },
      "source": [
        "<a href=\"https://colab.research.google.com/github/Surojit-KB/UNIV-AI-ML2-Lab3/blob/main/Copy_of_Lab3_Scaffold.ipynb\" target=\"_parent\"><img src=\"https://colab.research.google.com/assets/colab-badge.svg\" alt=\"Open In Colab\"/></a>"
      ]
    },
    {
      "cell_type": "markdown",
      "metadata": {
        "id": "dh8Vtphd4t_0"
      },
      "source": [
        "# Lab 3:  Bayesian Tomatoes\n",
        "### Univ.AI \n",
        "### ML-2 Cohort-1\n",
        "\n",
        "<div class=\"banner-container\">\n",
        "<img src=\"http://content7.flixster.com/movie/11/16/81/11168101_det.jpg\" width=180>\n",
        "\n",
        "<img src=\"http://content6.flixster.com/movie/11/15/15/11151508_det.jpg\" width=180>\n",
        "\n",
        "<img src=\"http://content9.flixster.com/movie/11/16/61/11166199_det.jpg\" width=180>\n",
        "</div>"
      ]
    },
    {
      "cell_type": "markdown",
      "metadata": {
        "id": "gjudwcpT4t_8"
      },
      "source": [
        "In this lab, you'll be analyzing movie reviews from [Rotten Tomatoes](http://www.rottentomatoes.com). This lab will cover:\n",
        "\n",
        " * Making and interpreting predictions from a Bayesian perspective\n",
        " * Using the Naive Bayes algorithm to predict whether a movie review is positive or negative\n",
        " * Using cross validation to optimize models"
      ]
    },
    {
      "cell_type": "markdown",
      "metadata": {
        "id": "sZjY-kJL4t_-"
      },
      "source": [
        "Rotten Tomatoes gathers movie reviews from critics. An [entry on the website](http://www.rottentomatoes.com/m/primer/reviews/?type=top_critics) typically consists of a short quote, a link to the full review, and a Fresh/Rotten classification which summarizes whether the critic liked/disliked the movie.\n",
        "\n",
        "\n",
        "When critics give quantitative ratings (say 3/4 stars, Thumbs up, etc.), determining the Fresh/Rotten classification is easy. However, publications like the New York Times don't assign numerical ratings to movies, and thus the Fresh/Rotten classification must be inferred from the text of the review itself.\n",
        "\n",
        "This basic task of categorizing text has many applications. All of the following questions boil down to text classification:\n",
        "\n",
        " * Is a movie review positive or negative?\n",
        " * Is an email spam, or not?\n",
        " \n",
        "Language is incredibly nuanced, and there is an entire field of computer science dedicated to the topic (Natural Language Processing). Nevertheless, we can construct basic language models using fairly straightforward techniques.  "
      ]
    },
    {
      "cell_type": "code",
      "metadata": {
        "id": "NvNXUs5X4t_9"
      },
      "source": [
        "#Import necessary libraries\n",
        "%matplotlib inline\n",
        "import pandas as pd\n",
        "import numpy as np\n",
        "import matplotlib.pyplot as plt\n",
        "from sklearn.model_selection import KFold, cross_val_score, train_test_split\n",
        "from sklearn.naive_bayes import MultinomialNB\n",
        "from sklearn.feature_extraction.text import CountVectorizer\n",
        "from sklearn.calibration import calibration_curve\n",
        "from sklearn.model_selection import GridSearchCV\n",
        "from sklearn.metrics import brier_score_loss"
      ],
      "execution_count": null,
      "outputs": []
    },
    {
      "cell_type": "markdown",
      "metadata": {
        "id": "84aHl-Mh4uAB"
      },
      "source": [
        "## Load and explore the data"
      ]
    },
    {
      "cell_type": "code",
      "metadata": {
        "id": "_lCsfI3rJS9i"
      },
      "source": [
        "critics = pd.read_csv('https://raw.githubusercontent.com/Surojit-KB/Lab3-1/main/data/critics.csv?token=AQT2I742XPFC3FXWRI7Z7KLAL5CQO')"
      ],
      "execution_count": null,
      "outputs": []
    },
    {
      "cell_type": "code",
      "metadata": {
        "colab": {
          "base_uri": "https://localhost:8080/"
        },
        "id": "7NJFw8ytJYO4",
        "outputId": "8acc0af5-245d-47c7-9942-7bbd352d96f0"
      },
      "source": [
        "from google.colab import drive\n",
        "drive.mount('/content/drive')"
      ],
      "execution_count": null,
      "outputs": [
        {
          "output_type": "stream",
          "text": [
            "Mounted at /content/drive\n"
          ],
          "name": "stdout"
        }
      ]
    },
    {
      "cell_type": "code",
      "metadata": {
        "id": "H2DLyWNmJqFp"
      },
      "source": [
        "critics.to_csv('/content/drive/MyDrive/Colab Notebooks/UNIV-AI-ML2/LABS/critics.csv')"
      ],
      "execution_count": null,
      "outputs": []
    },
    {
      "cell_type": "code",
      "metadata": {
        "id": "Z8MEcLY04uAE",
        "colab": {
          "base_uri": "https://localhost:8080/",
          "height": 206
        },
        "outputId": "a138503a-5300-48bd-b0a6-b13078532988"
      },
      "source": [
        "critics = pd.read_csv('/content/drive/MyDrive/Colab Notebooks/UNIV-AI-ML2/LABS/critics.csv',index)\n",
        "#Remove all the rows with no reviews \n",
        "critics = critics[~critics.quote.isnull()]\n",
        "#Take a look at the dataset\n",
        "critics.head()"
      ],
      "execution_count": null,
      "outputs": [
        {
          "output_type": "execute_result",
          "data": {
            "text/html": [
              "<div>\n",
              "<style scoped>\n",
              "    .dataframe tbody tr th:only-of-type {\n",
              "        vertical-align: middle;\n",
              "    }\n",
              "\n",
              "    .dataframe tbody tr th {\n",
              "        vertical-align: top;\n",
              "    }\n",
              "\n",
              "    .dataframe thead th {\n",
              "        text-align: right;\n",
              "    }\n",
              "</style>\n",
              "<table border=\"1\" class=\"dataframe\">\n",
              "  <thead>\n",
              "    <tr style=\"text-align: right;\">\n",
              "      <th></th>\n",
              "      <th>Unnamed: 0</th>\n",
              "      <th>critic</th>\n",
              "      <th>fresh</th>\n",
              "      <th>imdb</th>\n",
              "      <th>publication</th>\n",
              "      <th>quote</th>\n",
              "      <th>review_date</th>\n",
              "      <th>rtid</th>\n",
              "      <th>title</th>\n",
              "    </tr>\n",
              "  </thead>\n",
              "  <tbody>\n",
              "    <tr>\n",
              "      <th>1</th>\n",
              "      <td>1</td>\n",
              "      <td>Derek Adams</td>\n",
              "      <td>fresh</td>\n",
              "      <td>114709</td>\n",
              "      <td>Time Out</td>\n",
              "      <td>So ingenious in concept, design and execution ...</td>\n",
              "      <td>2009-10-04</td>\n",
              "      <td>9559</td>\n",
              "      <td>Toy story</td>\n",
              "    </tr>\n",
              "    <tr>\n",
              "      <th>2</th>\n",
              "      <td>2</td>\n",
              "      <td>Richard Corliss</td>\n",
              "      <td>fresh</td>\n",
              "      <td>114709</td>\n",
              "      <td>TIME Magazine</td>\n",
              "      <td>The year's most inventive comedy.</td>\n",
              "      <td>2008-08-31</td>\n",
              "      <td>9559</td>\n",
              "      <td>Toy story</td>\n",
              "    </tr>\n",
              "    <tr>\n",
              "      <th>3</th>\n",
              "      <td>3</td>\n",
              "      <td>David Ansen</td>\n",
              "      <td>fresh</td>\n",
              "      <td>114709</td>\n",
              "      <td>Newsweek</td>\n",
              "      <td>A winning animated feature that has something ...</td>\n",
              "      <td>2008-08-18</td>\n",
              "      <td>9559</td>\n",
              "      <td>Toy story</td>\n",
              "    </tr>\n",
              "    <tr>\n",
              "      <th>4</th>\n",
              "      <td>4</td>\n",
              "      <td>Leonard Klady</td>\n",
              "      <td>fresh</td>\n",
              "      <td>114709</td>\n",
              "      <td>Variety</td>\n",
              "      <td>The film sports a provocative and appealing st...</td>\n",
              "      <td>2008-06-09</td>\n",
              "      <td>9559</td>\n",
              "      <td>Toy story</td>\n",
              "    </tr>\n",
              "    <tr>\n",
              "      <th>5</th>\n",
              "      <td>5</td>\n",
              "      <td>Jonathan Rosenbaum</td>\n",
              "      <td>fresh</td>\n",
              "      <td>114709</td>\n",
              "      <td>Chicago Reader</td>\n",
              "      <td>An entertaining computer-generated, hyperreali...</td>\n",
              "      <td>2008-03-10</td>\n",
              "      <td>9559</td>\n",
              "      <td>Toy story</td>\n",
              "    </tr>\n",
              "  </tbody>\n",
              "</table>\n",
              "</div>"
            ],
            "text/plain": [
              "   Unnamed: 0              critic  fresh  ...  review_date  rtid      title\n",
              "1           1         Derek Adams  fresh  ...   2009-10-04  9559  Toy story\n",
              "2           2     Richard Corliss  fresh  ...   2008-08-31  9559  Toy story\n",
              "3           3         David Ansen  fresh  ...   2008-08-18  9559  Toy story\n",
              "4           4       Leonard Klady  fresh  ...   2008-06-09  9559  Toy story\n",
              "5           5  Jonathan Rosenbaum  fresh  ...   2008-03-10  9559  Toy story\n",
              "\n",
              "[5 rows x 9 columns]"
            ]
          },
          "metadata": {
            "tags": []
          },
          "execution_count": 5
        }
      ]
    },
    {
      "cell_type": "code",
      "metadata": {
        "colab": {
          "base_uri": "https://localhost:8080/"
        },
        "id": "RqycMEq1L5Mv",
        "outputId": "c4c7f8f4-d227-46a4-ed0f-64c91815fab9"
      },
      "source": [
        "critics.columns"
      ],
      "execution_count": null,
      "outputs": [
        {
          "output_type": "execute_result",
          "data": {
            "text/plain": [
              "Index(['Unnamed: 0', 'critic', 'fresh', 'imdb', 'publication', 'quote',\n",
              "       'review_date', 'rtid', 'title'],\n",
              "      dtype='object')"
            ]
          },
          "metadata": {
            "tags": []
          },
          "execution_count": 8
        }
      ]
    },
    {
      "cell_type": "code",
      "metadata": {
        "id": "cBXOiuUZ4uAF",
        "colab": {
          "base_uri": "https://localhost:8080/"
        },
        "outputId": "1c2ff5f8-b6b0-4985-d606-6718e6d55426"
      },
      "source": [
        "n_reviews = len(critics)\n",
        "n_movies = critics.rtid.unique().size\n",
        "n_critics = critics.critic.unique().size\n",
        "\n",
        "\n",
        "print (\"Number of reviews: \",  n_reviews)\n",
        "print (\"Number of critics: \" ,n_critics)\n",
        "print (\"Number of movies: \" , n_movies)"
      ],
      "execution_count": null,
      "outputs": [
        {
          "output_type": "stream",
          "text": [
            "Number of reviews:  15561\n",
            "Number of critics:  623\n",
            "Number of movies:  1921\n"
          ],
          "name": "stdout"
        }
      ]
    },
    {
      "cell_type": "markdown",
      "metadata": {
        "id": "mbU4mL_S4uAJ"
      },
      "source": [
        "## Naive Bayes Sentiment Analysis\n",
        "\n",
        "You will now use a [Naive Bayes classifier](https://en.wikipedia.org/wiki/Naive_Bayes_classifier) to build a prediction model for whether a review is fresh or rotten, depending on the text of the review. \n",
        "\n",
        "We need to convert the textual collection of reviews to something numerical. A common strategy for text classification is to represent each review as a \"bag of words\" vector -- a long vector\n",
        "of numbers encoding how many times a particular word appears in a review.\n",
        "\n",
        "Scikit-learn has an object called a `CountVectorizer` that turns text into a bag of words. "
      ]
    },
    {
      "cell_type": "markdown",
      "metadata": {
        "id": "lCHcU86G4uAJ"
      },
      "source": [
        "### BOW\n",
        "Using the `critics` dataframe, compute a pair of numerical X, Y arrays where:\n",
        "    \n",
        " * X is a `(nreview, nwords)` array. Each row corresponds to a bag-of-words representation for a single review. This will be the *input* to your model.\n",
        " * Y is a `nreview`-element 1/0 array, encoding whether a review is Fresh (1) or Rotten (0). This is the desired *output* from your model."
      ]
    },
    {
      "cell_type": "code",
      "metadata": {
        "id": "sxH8X_rK4uAK"
      },
      "source": [
        "def make_xy(critics, vectorizer=None):   \n",
        "    if vectorizer is None:\n",
        "        vectorizer = CountVectorizer()\n",
        "    X = vectorizer.fit_transform(critics.quote)\n",
        "    X = X.tocsc()  \n",
        "    Y = (critics.fresh == 'fresh').values.astype(np.int)\n",
        "    return X, Y"
      ],
      "execution_count": null,
      "outputs": []
    },
    {
      "cell_type": "code",
      "metadata": {
        "id": "SWI_gta74uAK"
      },
      "source": [
        "X, Y = make_xy(critics)"
      ],
      "execution_count": null,
      "outputs": []
    },
    {
      "cell_type": "markdown",
      "metadata": {
        "id": "dh1FRALJ4uAL"
      },
      "source": [
        "### Multionomial Naive Bayes Model\n",
        "\n",
        "\n",
        "Next, randomly split the data into two groups: a\n",
        "training set and a validation set. \n",
        "\n",
        "Use the training set to train a `MultinomialNB` classifier,\n",
        "and print the accuracy of this model on the validation set"
      ]
    },
    {
      "cell_type": "code",
      "metadata": {
        "id": "26bnSm6W4uAL",
        "colab": {
          "base_uri": "https://localhost:8080/"
        },
        "outputId": "48863e73-d11a-4f7d-9f75-9b8cd56e2147"
      },
      "source": [
        "#Split the train and test set and fit a MultinomialNB model\n",
        "X_train,X_test,y_train,y_test=train_test_split(X,Y,train_size=0.8)\n",
        "clf=MultinomialNB()\n",
        "#your code here\n",
        "clf.fit(X_train,y_train)"
      ],
      "execution_count": null,
      "outputs": [
        {
          "output_type": "execute_result",
          "data": {
            "text/plain": [
              "MultinomialNB(alpha=1.0, class_prior=None, fit_prior=True)"
            ]
          },
          "metadata": {
            "tags": []
          },
          "execution_count": 24
        }
      ]
    },
    {
      "cell_type": "code",
      "metadata": {
        "id": "o4up6ThmQsTd"
      },
      "source": [
        ""
      ],
      "execution_count": null,
      "outputs": []
    },
    {
      "cell_type": "code",
      "metadata": {
        "id": "o_s4OVqt4uAM",
        "colab": {
          "base_uri": "https://localhost:8080/"
        },
        "outputId": "8d756181-8f85-4177-d243-158e0db34a76"
      },
      "source": [
        "#Compute the train and test accuracy \n",
        "print('Train score:',model.score(X_train,y_train))\n",
        "print('Test score:',model.score(X_test,y_test))\n",
        "#your code here"
      ],
      "execution_count": null,
      "outputs": [
        {
          "output_type": "stream",
          "text": [
            "Train score: 0.9194248071979434\n",
            "Test score: 0.7751365242531321\n"
          ],
          "name": "stdout"
        }
      ]
    },
    {
      "cell_type": "markdown",
      "metadata": {
        "id": "TCTXOjim4uAN"
      },
      "source": [
        "### Model Calibration\n",
        "\n",
        "Being the respectable Bayesian that you are, you should always assess whether these probabilities are **calibrated** -- that is, whether a prediction made with a confidence of `x%` is correct approximately `x%` of the time.\n",
        "\n",
        "Let's make a plot to assess model calibration. Remember from the lecture, we want something like this:\n",
        "\n",
        "<img src=\"http://i.imgur.com/ea5B6zr.png\" width=500px>\n",
        "\n",
        "In words, we want to:\n",
        "\n",
        "* Take a collection of examples, and compute the freshness probability for each using `clf.predict_proba`\n",
        "* Gather examples into bins of similar freshness probability (the diagram shows 5 groups -- you should use something closer to 20)\n",
        "* For each bin, count the number of examples in that bin, and compute the fraction of examples in the bin which are fresh\n",
        "* **Optional:** In the upper plot, graph the expected P(Fresh) (x axis) and observed freshness fraction (Y axis). Estimate the uncertainty in observed freshness fraction $F$ via the [equation](http://en.wikipedia.org/wiki/Binomial_proportion_confidence_interval) $\\sigma = \\sqrt{F (1-F) / N}$\n",
        "* Overplot the line y=x. This is the trend we would expect if the model is calibrated\n",
        "* In the lower plot, show the number of examples in each bin\n"
      ]
    },
    {
      "cell_type": "code",
      "metadata": {
        "colab": {
          "base_uri": "https://localhost:8080/"
        },
        "id": "youHXxzWQpn7",
        "outputId": "dd0b9363-51bc-4442-cecd-a7e0d7010fbe"
      },
      "source": [
        "clf.predict_proba(X_test)[:,1]"
      ],
      "execution_count": null,
      "outputs": [
        {
          "output_type": "execute_result",
          "data": {
            "text/plain": [
              "array([0.99322239, 0.523703  , 0.73760829, ..., 0.4851889 , 0.0360717 ,\n",
              "       0.99902841])"
            ]
          },
          "metadata": {
            "tags": []
          },
          "execution_count": 34
        }
      ]
    },
    {
      "cell_type": "code",
      "metadata": {
        "id": "s4GBtU-V4uAN"
      },
      "source": [
        "def calibration_plot(clf, xtest, ytest):\n",
        "    #your code here\n",
        "    prob_pos = clf.predict_proba(xtest)[:,1]\n",
        "    fraction_of_positives, mean_predicted_value = calibration_curve(ytest, prob_pos, n_bins=20)\n",
        "    clf_score = brier_score_loss(ytest, prob_pos, pos_label=ytest.max())\n",
        "    fig = plt.figure(figsize=(10, 10))\n",
        "    ax1 = plt.subplot2grid((3, 1), (0, 0), rowspan=2)\n",
        "    ax2 = plt.subplot2grid((3, 1), (2, 0))\n",
        "    ax1.plot(mean_predicted_value, fraction_of_positives, \"s-\",\n",
        "         label=\"(%1.3f)\" % (clf_score))\n",
        "    ax1.plot([0,1], [0,1], \"k--\")\n",
        "    ax2.hist(prob_pos, range=(0, 1), bins=20, label=\"logistic\",\n",
        "         histtype=\"step\", lw=2)\n",
        "\n",
        "    ax1.set_ylabel(\"Fraction of positives\")\n",
        "    ax1.set_ylim([-0.05, 1.05])\n",
        "    ax1.legend(loc=\"lower right\")\n",
        "    ax1.set_title('Calibration plots  (reliability curve)')\n",
        "\n",
        "    ax2.set_xlabel(\"Mean predicted value\")\n",
        "    ax2.set_ylabel(\"Count\")\n",
        "    ax2.legend(loc=\"upper center\", ncol=2)\n",
        "\n",
        "    plt.tight_layout()"
      ],
      "execution_count": null,
      "outputs": []
    },
    {
      "cell_type": "code",
      "metadata": {
        "id": "lX1oSEVq4uAN",
        "colab": {
          "base_uri": "https://localhost:8080/",
          "height": 729
        },
        "outputId": "fd0d5d71-38e7-4dc9-b3cf-27b12eab5219"
      },
      "source": [
        "calibration_plot(clf, X_test ,y_test)"
      ],
      "execution_count": null,
      "outputs": [
        {
          "output_type": "display_data",
          "data": {
            "image/png": "[encoded data removed]",
            "text/plain": [
              "<Figure size 720x720 with 2 Axes>"
            ]
          },
          "metadata": {
            "tags": [],
            "needs_background": "light"
          }
        }
      ]
    },
    {
      "cell_type": "markdown",
      "metadata": {
        "id": "UWHglBJz4uAO"
      },
      "source": [
        "#### Cross Validation\n",
        "\n",
        "Our classifier has a few free parameters. The two most important are:\n",
        "\n",
        " 1. The `min_df` keyword in `CountVectorizer`, which will ignore words which appear in fewer than `min_df` fraction of reviews. Words that appear only once or twice can lead to overfitting, since words which occur only a few times might correlate very well with Fresh/Rotten reviews by chance in the training dataset.\n",
        " \n",
        " 2. The [`alpha` keyword](http://scikit-learn.org/stable/modules/naive_bayes.html#multinomial-naive-bayes) in the Bayesian classifier is a \"smoothing parameter\" -- increasing the value decreases the sensitivity to any single feature, and tends to pull prediction probabilities closer to 50%. \n",
        "\n",
        "\n",
        "Using `clf.predict_logproba`, write a function that computes the log-likelihood of a dataset"
      ]
    },
    {
      "cell_type": "code",
      "metadata": {
        "id": "sQZ_K67RSA35"
      },
      "source": [
        "y_log_pred=clf.predict_log_proba(X_test)[:,1]"
      ],
      "execution_count": null,
      "outputs": []
    },
    {
      "cell_type": "code",
      "metadata": {
        "id": "-9k4mbQKSDgP"
      },
      "source": [
        "ind_1=(y_test==1)"
      ],
      "execution_count": null,
      "outputs": []
    },
    {
      "cell_type": "code",
      "metadata": {
        "colab": {
          "base_uri": "https://localhost:8080/"
        },
        "id": "87HOXdTATxcF",
        "outputId": "7cf190ef-9e92-4ef7-9bb0-89a1a2487c11"
      },
      "source": [
        "y_log_pred[ind_1]"
      ],
      "execution_count": null,
      "outputs": [
        {
          "output_type": "execute_result",
          "data": {
            "text/plain": [
              "array([-0.00680068, -0.64683055, -0.30434237, ..., -0.00232591,\n",
              "       -0.00092449, -0.00097206])"
            ]
          },
          "metadata": {
            "tags": []
          },
          "execution_count": 42
        }
      ]
    },
    {
      "cell_type": "code",
      "metadata": {
        "id": "jBnirXxN4uAO"
      },
      "source": [
        "\"\"\"\n",
        "Function\n",
        "--------\n",
        "log_likelihood\n",
        "\n",
        "Compute the log likelihood of a dataset according to \n",
        "a bayesian classifier. \n",
        "The Log Likelihood is defined by\n",
        "\n",
        "L = Sum_fresh(logP(fresh)) + Sum_rotten(logP(rotten))\n",
        "\n",
        "Where Sum_fresh indicates a sum over all fresh reviews, \n",
        "and Sum_rotten indicates a sum over rotten reviews\n",
        "    \n",
        "Parameters\n",
        "----------\n",
        "clf : Bayesian classifier\n",
        "x : (nexample, nfeature) array\n",
        "    The input data\n",
        "y : (nexample) integer array\n",
        "    Whether each review is Fresh\n",
        "\"\"\"\n",
        "def log_likelihood(clf, x, y):\n",
        "    y_log_pred=clf.predict_log_proba(x)[:,1]\n",
        "    L=np.sum(y_log_pred[y==1])+np.sum(y_log_pred[y==0])\n",
        "    return L\n",
        "    #your code here"
      ],
      "execution_count": null,
      "outputs": []
    },
    {
      "cell_type": "code",
      "metadata": {
        "id": "iQfLaEBR0Kkf"
      },
      "source": [
        "def cv_score(clf, x, y, score_func):\n",
        "    \"\"\"\n",
        "    Uses 5-fold cross validation to estimate a score of a classifier\n",
        "    \n",
        "    Inputs\n",
        "    ------\n",
        "    clf : Classifier object\n",
        "    x : Input feature vector\n",
        "    y : Input class labels\n",
        "    score_func : Function like log_likelihood, that takes (clf, x, y) as input,\n",
        "                 and returns a score\n",
        "                 \n",
        "    Returns\n",
        "    -------\n",
        "    The average score obtained by randomly splitting (x, y) into training and \n",
        "    test sets, fitting on the training set, and evaluating score_func on the test set\n",
        "    \n",
        "    Examples\n",
        "    cv_score(clf, x, y, log_likelihood)\n",
        "    \"\"\"\n",
        "    \n",
        "    #your code here\n",
        "    score=np.mean(cross_val_score(clf,x,y,cv=5,n_jobs=-1,scoring=score_func))\n",
        "    return score"
      ],
      "execution_count": null,
      "outputs": []
    },
    {
      "cell_type": "markdown",
      "metadata": {
        "id": "Eo5qDk8o4uAP"
      },
      "source": [
        "Find which settings are \"best\" in the sense of maximizing the cross-validated log-likelihood."
      ]
    },
    {
      "cell_type": "code",
      "metadata": {
        "id": "O-jf2cEoYK2e"
      },
      "source": [
        "def make_xy(critics,min_df, vectorizer=None):   \n",
        "    if vectorizer is None:\n",
        "        vectorizer = CountVectorizer(min_df=min_df)\n",
        "    X = vectorizer.fit_transform(critics.quote)\n",
        "    X = X.tocsc()  \n",
        "    Y = (critics.fresh == 'fresh').values.astype(np.int)\n",
        "    return X, Y"
      ],
      "execution_count": null,
      "outputs": []
    },
    {
      "cell_type": "code",
      "metadata": {
        "id": "Z6JGc8CM4uAP",
        "colab": {
          "base_uri": "https://localhost:8080/",
          "height": 246
        },
        "outputId": "83f78b85-e653-4b9f-d649-b6c2d42b1991"
      },
      "source": [
        "#the grid of parameters to search over\n",
        "alphas = [0, .1, 1, 5, 10, 50]\n",
        "min_dfs = [1e-5, 1e-4, 1e-3, 1e-2, 1e-1]\n",
        "\n",
        "#Find the best value for alpha and min_df, and the best classifier\n",
        "best_alpha = None\n",
        "best_min_df = None\n",
        "max_loglike = -np.inf\n",
        "\n",
        "\n",
        "#your code here\n",
        "for alpha in alphas:\n",
        "  for df in min_dfs:\n",
        "    X,Y=make_xy(critics,df)\n",
        "    clf=MultinomialNB(alpha=alpha)\n",
        "    score=cv_score(clf,X,Y,log_likelihood())\n",
        "    if score>max_loglike:\n",
        "      max_loglike=score\n",
        "      best_alpha=alpha\n",
        "      best_min_df=df"
      ],
      "execution_count": null,
      "outputs": [
        {
          "output_type": "error",
          "ename": "TypeError",
          "evalue": "ignored",
          "traceback": [
            "\u001b[0;31m---------------------------------------------------------------------------\u001b[0m",
            "\u001b[0;31mTypeError\u001b[0m                                 Traceback (most recent call last)",
            "\u001b[0;32m<ipython-input-52-ae7eb3f7f9b0>\u001b[0m in \u001b[0;36m<module>\u001b[0;34m()\u001b[0m\n\u001b[1;32m     14\u001b[0m     \u001b[0mX\u001b[0m\u001b[0;34m,\u001b[0m\u001b[0mY\u001b[0m\u001b[0;34m=\u001b[0m\u001b[0mmake_xy\u001b[0m\u001b[0;34m(\u001b[0m\u001b[0mcritics\u001b[0m\u001b[0;34m,\u001b[0m\u001b[0mdf\u001b[0m\u001b[0;34m)\u001b[0m\u001b[0;34m\u001b[0m\u001b[0;34m\u001b[0m\u001b[0m\n\u001b[1;32m     15\u001b[0m     \u001b[0mclf\u001b[0m\u001b[0;34m=\u001b[0m\u001b[0mMultinomialNB\u001b[0m\u001b[0;34m(\u001b[0m\u001b[0malpha\u001b[0m\u001b[0;34m=\u001b[0m\u001b[0malpha\u001b[0m\u001b[0;34m)\u001b[0m\u001b[0;34m\u001b[0m\u001b[0;34m\u001b[0m\u001b[0m\n\u001b[0;32m---> 16\u001b[0;31m     \u001b[0mscore\u001b[0m\u001b[0;34m=\u001b[0m\u001b[0mcv_score\u001b[0m\u001b[0;34m(\u001b[0m\u001b[0mclf\u001b[0m\u001b[0;34m,\u001b[0m\u001b[0mX\u001b[0m\u001b[0;34m,\u001b[0m\u001b[0mY\u001b[0m\u001b[0;34m,\u001b[0m\u001b[0mlog_likelihood\u001b[0m\u001b[0;34m(\u001b[0m\u001b[0;34m)\u001b[0m\u001b[0;34m)\u001b[0m\u001b[0;34m\u001b[0m\u001b[0;34m\u001b[0m\u001b[0m\n\u001b[0m\u001b[1;32m     17\u001b[0m     \u001b[0;32mif\u001b[0m \u001b[0mscore\u001b[0m\u001b[0;34m>\u001b[0m\u001b[0mmax_loglike\u001b[0m\u001b[0;34m:\u001b[0m\u001b[0;34m\u001b[0m\u001b[0;34m\u001b[0m\u001b[0m\n\u001b[1;32m     18\u001b[0m       \u001b[0mmax_loglike\u001b[0m\u001b[0;34m=\u001b[0m\u001b[0mscore\u001b[0m\u001b[0;34m\u001b[0m\u001b[0;34m\u001b[0m\u001b[0m\n",
            "\u001b[0;31mTypeError\u001b[0m: log_likelihood() missing 3 required positional arguments: 'clf', 'x', and 'y'"
          ]
        }
      ]
    },
    {
      "cell_type": "code",
      "metadata": {
        "id": "sFXoUDVW4uAP"
      },
      "source": [
        "print( \"alpha: \" , best_alpha)\n",
        "print (\"min_df:\",best_min_df)"
      ],
      "execution_count": null,
      "outputs": []
    },
    {
      "cell_type": "markdown",
      "metadata": {
        "id": "FUBwdj8I4uAP"
      },
      "source": [
        "Now that you've determined values for alpha and min_df that optimize the cross-validated log-likelihood, train a final classifier with these parameters, re-evaluate the accuracy, and draw a new calibration plot."
      ]
    },
    {
      "cell_type": "code",
      "metadata": {
        "id": "KlJvoMyr4uAQ"
      },
      "source": [
        "#your code here"
      ],
      "execution_count": null,
      "outputs": []
    },
    {
      "cell_type": "markdown",
      "metadata": {
        "id": "adm1Oe7I4uAQ"
      },
      "source": [
        "Discuss the various ways in which Cross-Validation has affected the model. Is the new model more or less accurate? Is overfitting better or worse? Is the model more or less calibrated?"
      ]
    },
    {
      "cell_type": "markdown",
      "metadata": {
        "id": "qFq1NCQ94uAQ"
      },
      "source": [
        "**Answer** *The new model is slightly less accurate on the test data (74% vs 77% on the original model). However, it is both better calibrated and less over-fit than before. In other words, while the classification accuracy is slightly worse, the probabilities themselves are more accurate. The model is still slightly over-confident when making low P(Fresh) predictions. However, the calibration plot shows the model is usually within 1 error bar of the expected performance where P(Fresh) >= 0.2. Finally, the new model makes less-conclusive predictions on average -- the histogram in the calibration plot is more uniformly distributed, with fewer predictions clustered around P(Fresh) = 0 or 1.*"
      ]
    },
    {
      "cell_type": "markdown",
      "metadata": {
        "id": "Fj_bfwDz4uAR"
      },
      "source": [
        "## Interpretation. What words best predict a fresh or rotten review?\n",
        "\n",
        "Using your classifier and the `vectorizer.get_feature_names` method, determine which words best predict a positive or negative review. Print the 10 words\n",
        "that best predict a \"fresh\" review, and the 10 words that best predict a \"rotten\" review. For each word, what is the model's probability of freshness if the word appears one time?\n",
        "\n",
        "#### Hints\n",
        "\n",
        "* Try computing the classification probability for a feature vector which consists of all 0s, except for a single 1. What does this probability refer to?\n"
      ]
    },
    {
      "cell_type": "code",
      "metadata": {
        "id": "l_RUBL4w4uAR"
      },
      "source": [
        "## Your code here\n",
        "\n",
        "words = np.array(vectorizer.get_feature_names())\n",
        "\n",
        "x = np.eye(xtest.shape[1])\n",
        "probs = ________\n",
        "ind = ________\n",
        "\n",
        "good_words = ________\n",
        "bad_words = ________\n",
        "\n",
        "good_prob = ________\n",
        "bad_prob = ________\n",
        "\n",
        "print (\"Good words\\t     P(fresh | word)\")\n",
        "for w, p in zip(good_words, good_prob):\n",
        "    print (\"%20s\" % w, \"%0.2f\" % (1 - np.exp(p)))\n",
        "    \n",
        "print (\"Bad words\\t     P(fresh | word)\")\n",
        "for w, p in zip(bad_words, bad_prob):\n",
        "    print (\"%20s\" % w, \"%0.2f\" % (1 - np.exp(p)))"
      ],
      "execution_count": null,
      "outputs": []
    },
    {
      "cell_type": "markdown",
      "metadata": {
        "id": "2n4bKrsc4uAR"
      },
      "source": [
        "One of the best sources for inspiration when trying to improve a model is to look at examples where the model performs poorly. \n",
        "\n",
        "Find 5 fresh and rotten reviews where your model performs particularly poorly. Print each review."
      ]
    },
    {
      "cell_type": "code",
      "metadata": {
        "colab": {
          "base_uri": "https://localhost:8080/"
        },
        "id": "9rSCTSoK5vlu",
        "outputId": "b47ba262-55c5-4927-ba01-0414335e0739"
      },
      "source": [
        "x, y = make_xy(critics, vectorizer)\n",
        "\n",
        "prob = _____\n",
        "predict = clf.predict(x)\n",
        "\n",
        "#your code here\n"
      ],
      "execution_count": null,
      "outputs": [
        {
          "output_type": "stream",
          "text": [
            "Mis-predicted Rotten quotes\n",
            "---------------------------\n",
            "Like most remakes, The Fog is pretty unnecessary.\n",
            "If watched from a mildly amused, forgiving distance, the movie has its enjoyable moments -- good and campy.\n",
            "It is a work of art created by grown people for grown people.\n",
            "Personal as the story he is telling may be, what separates this film from Allen's own past work and most other recent comedy is its general believability.\n",
            "Are you bored yet?\n",
            "---------------------------\n",
            "---------------------------\n",
            "Mis-predicted Fresh quotes\n",
            "--------------------------\n",
            "That implacable moral balance, in which good eventually silences evil, is at the heart of the Western, and Eastwood is not shy about saying so.\n",
            "The director's real achievement is not in making a piece of agitprop but in using these fundamental tools of cinema in such an extraordinarily affecting way.\n",
            "Although Giant may not be a classic in the purest sense of the word, it's a fine example of a virtually-extinct genre.\n",
            "A good ride, briskly paced, well played and vividly photographed.\n",
            "Vampires aren't the only things in Bordello of Blood that can't stand up to daylight. Neither can the plot.\n"
          ],
          "name": "stdout"
        }
      ]
    },
    {
      "cell_type": "markdown",
      "metadata": {
        "id": "j0syhcJL4uAS"
      },
      "source": [
        "What do you notice about these mis-predictions? Naive Bayes classifiers assume that every word affects the probability independently of other words. In what way is this a bad assumption? In your answer, report your classifier's Freshness probability for the review \"This movie is not remarkable, touching, or superb in any way\".\n",
        "\n",
        "Try your own sentences!"
      ]
    },
    {
      "cell_type": "code",
      "metadata": {
        "id": "CSuRwPHm4uAS"
      },
      "source": [
        "clf.predict_proba(vectorizer.transform(['This movie is not remarkable, touching, or superb in any way']))"
      ],
      "execution_count": null,
      "outputs": []
    }
  ]
}